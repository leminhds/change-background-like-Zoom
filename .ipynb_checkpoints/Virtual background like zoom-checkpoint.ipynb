{
 "cells": [
  {
   "cell_type": "code",
   "execution_count": 1,
   "id": "67c7f03b-c25d-4976-a445-6691ba054e2a",
   "metadata": {
    "collapsed": true,
    "jupyter": {
     "outputs_hidden": true
    },
    "tags": []
   },
   "outputs": [
    {
     "name": "stdout",
     "output_type": "stream",
     "text": [
      "Collecting tf_bodypix\n",
      "  Downloading tf_bodypix-0.3.6-py3-none-any.whl (37 kB)\n",
      "Collecting tfjs_graph_converter\n",
      "  Downloading tfjs_graph_converter-1.4.2-py3-none-any.whl (32 kB)\n",
      "Collecting tensorflowjs>=1.5.2\n",
      "  Downloading tensorflowjs-3.8.0-py3-none-any.whl (64 kB)\n",
      "Requirement already satisfied: tensorflow<3,>=2.1.0 in d:\\conda\\envs\\tf_latest\\lib\\site-packages (from tensorflowjs>=1.5.2->tfjs_graph_converter) (2.5.0)\n",
      "Requirement already satisfied: six<2,>=1.12.0 in d:\\conda\\envs\\tf_latest\\lib\\site-packages (from tensorflowjs>=1.5.2->tfjs_graph_converter) (1.15.0)\n",
      "Collecting tensorflow-hub<0.13,>=0.7.0\n",
      "  Using cached tensorflow_hub-0.12.0-py2.py3-none-any.whl (108 kB)\n",
      "Requirement already satisfied: gast==0.4.0 in d:\\conda\\envs\\tf_latest\\lib\\site-packages (from tensorflow<3,>=2.1.0->tensorflowjs>=1.5.2->tfjs_graph_converter) (0.4.0)\n",
      "Collecting keras>=2.4.0\n",
      "  Using cached keras-2.6.0-py2.py3-none-any.whl (1.3 MB)\n",
      "Requirement already satisfied: typing-extensions>=3.7.4 in d:\\conda\\envs\\tf_latest\\lib\\site-packages (from tensorflow<3,>=2.1.0->tensorflowjs>=1.5.2->tfjs_graph_converter) (3.10.0.0)\n",
      "Collecting grpcio~=1.34.0\n",
      "  Using cached grpcio-1.34.1-cp37-cp37m-win_amd64.whl (2.9 MB)\n",
      "Requirement already satisfied: numpy>=1.19 in d:\\conda\\envs\\tf_latest\\lib\\site-packages (from tensorflow<3,>=2.1.0->tensorflowjs>=1.5.2->tfjs_graph_converter) (1.20.3)\n",
      "Requirement already satisfied: google-pasta~=0.2 in d:\\conda\\envs\\tf_latest\\lib\\site-packages (from tensorflow<3,>=2.1.0->tensorflowjs>=1.5.2->tfjs_graph_converter) (0.2.0)\n",
      "Requirement already satisfied: opt-einsum~=3.3.0 in d:\\conda\\envs\\tf_latest\\lib\\site-packages (from tensorflow<3,>=2.1.0->tensorflowjs>=1.5.2->tfjs_graph_converter) (3.3.0)\n",
      "Collecting flatbuffers~=1.12\n",
      "  Using cached flatbuffers-1.12-py2.py3-none-any.whl (15 kB)\n",
      "Requirement already satisfied: astunparse~=1.6.3 in d:\\conda\\envs\\tf_latest\\lib\\site-packages (from tensorflow<3,>=2.1.0->tensorflowjs>=1.5.2->tfjs_graph_converter) (1.6.3)\n",
      "Requirement already satisfied: protobuf>=3.9.2 in d:\\conda\\envs\\tf_latest\\lib\\site-packages (from tensorflow<3,>=2.1.0->tensorflowjs>=1.5.2->tfjs_graph_converter) (3.14.0)\n",
      "Requirement already satisfied: termcolor>=1.1.0 in d:\\conda\\envs\\tf_latest\\lib\\site-packages (from tensorflow<3,>=2.1.0->tensorflowjs>=1.5.2->tfjs_graph_converter) (1.1.0)\n",
      "Requirement already satisfied: wheel>=0.35 in d:\\conda\\envs\\tf_latest\\lib\\site-packages (from tensorflow<3,>=2.1.0->tensorflowjs>=1.5.2->tfjs_graph_converter) (0.35.1)\n",
      "Requirement already satisfied: h5py>=3.1.0 in d:\\conda\\envs\\tf_latest\\lib\\site-packages (from tensorflow<3,>=2.1.0->tensorflowjs>=1.5.2->tfjs_graph_converter) (3.2.1)\n",
      "Requirement already satisfied: absl-py~=0.10 in d:\\conda\\envs\\tf_latest\\lib\\site-packages (from tensorflow<3,>=2.1.0->tensorflowjs>=1.5.2->tfjs_graph_converter) (0.13.0)\n",
      "Requirement already satisfied: keras-preprocessing>=1.1.2 in d:\\conda\\envs\\tf_latest\\lib\\site-packages (from tensorflow<3,>=2.1.0->tensorflowjs>=1.5.2->tfjs_graph_converter) (1.1.2)\n",
      "Requirement already satisfied: wrapt>=1.11.2 in d:\\conda\\envs\\tf_latest\\lib\\site-packages (from tensorflow<3,>=2.1.0->tensorflowjs>=1.5.2->tfjs_graph_converter) (1.12.1)\n",
      "Requirement already satisfied: tensorflow-estimator<2.6.0,>=2.5.0rc0 in d:\\conda\\envs\\tf_latest\\lib\\site-packages (from tensorflow<3,>=2.1.0->tensorflowjs>=1.5.2->tfjs_graph_converter) (2.5.0)\n",
      "Requirement already satisfied: tensorboard~=2.5 in d:\\conda\\envs\\tf_latest\\lib\\site-packages (from tensorflow<3,>=2.1.0->tensorflowjs>=1.5.2->tfjs_graph_converter) (2.5.0)\n",
      "Requirement already satisfied: cached-property in d:\\conda\\envs\\tf_latest\\lib\\site-packages (from h5py>=3.1.0->tensorflow<3,>=2.1.0->tensorflowjs>=1.5.2->tfjs_graph_converter) (1.5.2)\n",
      "Requirement already satisfied: google-auth<2,>=1.6.3 in d:\\conda\\envs\\tf_latest\\lib\\site-packages (from tensorboard~=2.5->tensorflow<3,>=2.1.0->tensorflowjs>=1.5.2->tfjs_graph_converter) (1.21.3)\n",
      "Collecting tensorboard-data-server<0.7.0,>=0.6.0\n",
      "  Using cached tensorboard_data_server-0.6.1-py3-none-any.whl (2.4 kB)\n",
      "Requirement already satisfied: markdown>=2.6.8 in d:\\conda\\envs\\tf_latest\\lib\\site-packages (from tensorboard~=2.5->tensorflow<3,>=2.1.0->tensorflowjs>=1.5.2->tfjs_graph_converter) (3.3.4)\n",
      "Requirement already satisfied: setuptools>=41.0.0 in d:\\conda\\envs\\tf_latest\\lib\\site-packages (from tensorboard~=2.5->tensorflow<3,>=2.1.0->tensorflowjs>=1.5.2->tfjs_graph_converter) (52.0.0.post20210125)\n",
      "Requirement already satisfied: google-auth-oauthlib<0.5,>=0.4.1 in d:\\conda\\envs\\tf_latest\\lib\\site-packages (from tensorboard~=2.5->tensorflow<3,>=2.1.0->tensorflowjs>=1.5.2->tfjs_graph_converter) (0.4.1)\n",
      "Requirement already satisfied: requests<3,>=2.21.0 in d:\\conda\\envs\\tf_latest\\lib\\site-packages (from tensorboard~=2.5->tensorflow<3,>=2.1.0->tensorflowjs>=1.5.2->tfjs_graph_converter) (2.26.0)\n",
      "Requirement already satisfied: tensorboard-plugin-wit>=1.6.0 in d:\\conda\\envs\\tf_latest\\lib\\site-packages (from tensorboard~=2.5->tensorflow<3,>=2.1.0->tensorflowjs>=1.5.2->tfjs_graph_converter) (1.6.0)\n",
      "Requirement already satisfied: werkzeug>=0.11.15 in d:\\conda\\envs\\tf_latest\\lib\\site-packages (from tensorboard~=2.5->tensorflow<3,>=2.1.0->tensorflowjs>=1.5.2->tfjs_graph_converter) (1.0.1)\n",
      "Requirement already satisfied: rsa<5,>=3.1.4 in d:\\conda\\envs\\tf_latest\\lib\\site-packages (from google-auth<2,>=1.6.3->tensorboard~=2.5->tensorflow<3,>=2.1.0->tensorflowjs>=1.5.2->tfjs_graph_converter) (4.7.2)\n",
      "Requirement already satisfied: pyasn1-modules>=0.2.1 in d:\\conda\\envs\\tf_latest\\lib\\site-packages (from google-auth<2,>=1.6.3->tensorboard~=2.5->tensorflow<3,>=2.1.0->tensorflowjs>=1.5.2->tfjs_graph_converter) (0.2.8)\n",
      "Requirement already satisfied: cachetools<5.0,>=2.0.0 in d:\\conda\\envs\\tf_latest\\lib\\site-packages (from google-auth<2,>=1.6.3->tensorboard~=2.5->tensorflow<3,>=2.1.0->tensorflowjs>=1.5.2->tfjs_graph_converter) (4.2.2)\n",
      "Requirement already satisfied: requests-oauthlib>=0.7.0 in d:\\conda\\envs\\tf_latest\\lib\\site-packages (from google-auth-oauthlib<0.5,>=0.4.1->tensorboard~=2.5->tensorflow<3,>=2.1.0->tensorflowjs>=1.5.2->tfjs_graph_converter) (1.3.0)\n",
      "Requirement already satisfied: importlib-metadata in d:\\conda\\envs\\tf_latest\\lib\\site-packages (from markdown>=2.6.8->tensorboard~=2.5->tensorflow<3,>=2.1.0->tensorflowjs>=1.5.2->tfjs_graph_converter) (4.6.4)\n",
      "Requirement already satisfied: pyasn1<0.5.0,>=0.4.6 in d:\\conda\\envs\\tf_latest\\lib\\site-packages (from pyasn1-modules>=0.2.1->google-auth<2,>=1.6.3->tensorboard~=2.5->tensorflow<3,>=2.1.0->tensorflowjs>=1.5.2->tfjs_graph_converter) (0.4.8)\n",
      "Requirement already satisfied: certifi>=2017.4.17 in d:\\conda\\envs\\tf_latest\\lib\\site-packages (from requests<3,>=2.21.0->tensorboard~=2.5->tensorflow<3,>=2.1.0->tensorflowjs>=1.5.2->tfjs_graph_converter) (2020.6.20)\n",
      "Requirement already satisfied: charset-normalizer~=2.0.0 in d:\\conda\\envs\\tf_latest\\lib\\site-packages (from requests<3,>=2.21.0->tensorboard~=2.5->tensorflow<3,>=2.1.0->tensorflowjs>=1.5.2->tfjs_graph_converter) (2.0.0)\n",
      "Requirement already satisfied: urllib3<1.27,>=1.21.1 in d:\\conda\\envs\\tf_latest\\lib\\site-packages (from requests<3,>=2.21.0->tensorboard~=2.5->tensorflow<3,>=2.1.0->tensorflowjs>=1.5.2->tfjs_graph_converter) (1.26.6)\n",
      "Requirement already satisfied: idna<4,>=2.5 in d:\\conda\\envs\\tf_latest\\lib\\site-packages (from requests<3,>=2.21.0->tensorboard~=2.5->tensorflow<3,>=2.1.0->tensorflowjs>=1.5.2->tfjs_graph_converter) (3.1)\n",
      "Requirement already satisfied: oauthlib>=3.0.0 in d:\\conda\\envs\\tf_latest\\lib\\site-packages (from requests-oauthlib>=0.7.0->google-auth-oauthlib<0.5,>=0.4.1->tensorboard~=2.5->tensorflow<3,>=2.1.0->tensorflowjs>=1.5.2->tfjs_graph_converter) (3.1.1)\n",
      "Requirement already satisfied: zipp>=0.5 in d:\\conda\\envs\\tf_latest\\lib\\site-packages (from importlib-metadata->markdown>=2.6.8->tensorboard~=2.5->tensorflow<3,>=2.1.0->tensorflowjs>=1.5.2->tfjs_graph_converter) (3.5.0)\n",
      "Installing collected packages: tensorboard-data-server, grpcio, keras, flatbuffers, tensorflow-hub, tensorflowjs, tfjs-graph-converter, tf-bodypix\n",
      "  Attempting uninstall: grpcio\n",
      "    Found existing installation: grpcio 1.36.1\n",
      "    Uninstalling grpcio-1.36.1:\n",
      "      Successfully uninstalled grpcio-1.36.1\n",
      "  Attempting uninstall: flatbuffers\n",
      "    Found existing installation: flatbuffers 20210226132247\n",
      "    Uninstalling flatbuffers-20210226132247:\n",
      "      Successfully uninstalled flatbuffers-20210226132247\n",
      "Successfully installed flatbuffers-1.12 grpcio-1.34.1 keras-2.6.0 tensorboard-data-server-0.6.1 tensorflow-hub-0.12.0 tensorflowjs-3.8.0 tf-bodypix-0.3.6 tfjs-graph-converter-1.4.2\n"
     ]
    }
   ],
   "source": [
    "!pip install tf_bodypix tfjs_graph_converter"
   ]
  },
  {
   "cell_type": "code",
   "execution_count": 1,
   "id": "de427ba8-80a8-4031-ae7e-fdc94c4bc709",
   "metadata": {},
   "outputs": [],
   "source": [
    "import tensorflow as tf\n",
    "from tf_bodypix.api import download_model, load_model, BodyPixModelPaths\n",
    "import cv2\n",
    "from matplotlib import pyplot as plt\n",
    "import numpy as np"
   ]
  },
  {
   "cell_type": "markdown",
   "id": "3df00e49-88ed-486b-b810-865b5bf36c61",
   "metadata": {},
   "source": [
    "## Detection"
   ]
  },
  {
   "cell_type": "code",
   "execution_count": 2,
   "id": "4dad7365-3128-493e-9688-bbdcac513d3d",
   "metadata": {},
   "outputs": [],
   "source": [
    "# download the model\n",
    "bodypix_model = load_model(download_model(BodyPixModelPaths.MOBILENET_FLOAT_50_STRIDE_16))"
   ]
  },
  {
   "cell_type": "markdown",
   "id": "9387fa75-422b-4200-8841-e6db5a561a9b",
   "metadata": {},
   "source": [
    "we will now grab the webcame with opencv"
   ]
  },
  {
   "cell_type": "code",
   "execution_count": 6,
   "id": "222ee59e-92a1-419a-b976-b0796433ecd4",
   "metadata": {},
   "outputs": [],
   "source": [
    "cap = cv2.VideoCapture(0)\n",
    "while cap.isOpened():\n",
    "    ret, frame = cap.read()\n",
    "    \n",
    "    # BodyPix detections\n",
    "    result = bodypix_model.predict_single(frame)\n",
    "    mask = result.get_mask(threshold=0.3).numpy().astype(np.uint8) #threshold is the confidence level we want\n",
    "    masked_image = cv2.bitwise_and(frame, frame, mask=mask)\n",
    "    \n",
    "    #show result \n",
    "    cv2.imshow('BodyPix', masked_image)\n",
    "    \n",
    "    if cv2.waitKey(10) & 0xFF == ord('q'):\n",
    "        break\n",
    "\n",
    "cap.release()\n",
    "cv2.destroyAllWindows()"
   ]
  },
  {
   "cell_type": "markdown",
   "id": "87ff6508-ed86-40b0-8799-ce395afbb628",
   "metadata": {},
   "source": [
    "## Add Virtual Background"
   ]
  },
  {
   "cell_type": "code",
   "execution_count": 12,
   "id": "527b4f03-8671-4c73-ae6e-e18db2fab528",
   "metadata": {},
   "outputs": [
    {
     "ename": "error",
     "evalue": "OpenCV(4.5.3) C:\\Users\\runneradmin\\AppData\\Local\\Temp\\pip-req-build-_xlv4eex\\opencv\\modules\\imgproc\\src\\color.cpp:182: error: (-215:Assertion failed) !_src.empty() in function 'cv::cvtColor'\n",
     "output_type": "error",
     "traceback": [
      "\u001b[1;31m---------------------------------------------------------------------------\u001b[0m",
      "\u001b[1;31merror\u001b[0m                                     Traceback (most recent call last)",
      "\u001b[1;32m<ipython-input-12-fe0f0e3e5e64>\u001b[0m in \u001b[0;36m<module>\u001b[1;34m\u001b[0m\n\u001b[0;32m      1\u001b[0m \u001b[0mimg\u001b[0m \u001b[1;33m=\u001b[0m \u001b[0mcv2\u001b[0m\u001b[1;33m.\u001b[0m\u001b[0mimread\u001b[0m\u001b[1;33m(\u001b[0m\u001b[1;34m'beach.jpg'\u001b[0m\u001b[1;33m)\u001b[0m\u001b[1;33m\u001b[0m\u001b[0m\n\u001b[1;32m----> 2\u001b[1;33m \u001b[0mplt\u001b[0m\u001b[1;33m.\u001b[0m\u001b[0mimshow\u001b[0m\u001b[1;33m(\u001b[0m\u001b[0mcv2\u001b[0m\u001b[1;33m.\u001b[0m\u001b[0mcvtColor\u001b[0m\u001b[1;33m(\u001b[0m\u001b[0mimg\u001b[0m\u001b[1;33m,\u001b[0m \u001b[0mcv2\u001b[0m\u001b[1;33m.\u001b[0m\u001b[0mCOLOR_BGR2RGB\u001b[0m\u001b[1;33m)\u001b[0m\u001b[1;33m)\u001b[0m\u001b[1;33m\u001b[0m\u001b[0m\n\u001b[0m",
      "\u001b[1;31merror\u001b[0m: OpenCV(4.5.3) C:\\Users\\runneradmin\\AppData\\Local\\Temp\\pip-req-build-_xlv4eex\\opencv\\modules\\imgproc\\src\\color.cpp:182: error: (-215:Assertion failed) !_src.empty() in function 'cv::cvtColor'\n"
     ]
    }
   ],
   "source": [
    "img = cv2.imread('beach.jpg')\n",
    "plt.imshow(cv2.cvtColor(img, cv2.COLOR_BGR2RGB))"
   ]
  },
  {
   "cell_type": "code",
   "execution_count": 14,
   "id": "f424294a-b121-4337-af5b-9a1b6e04ca2f",
   "metadata": {},
   "outputs": [],
   "source": [
    "img = cv2.imread('beach.jpg')\n",
    "img"
   ]
  },
  {
   "cell_type": "code",
   "execution_count": 1,
   "id": "1adcdd28-e1ff-4cf7-b4a5-b475121ea71f",
   "metadata": {},
   "outputs": [
    {
     "data": {
      "text/plain": [
       "'D:\\\\learning\\\\data science projects'"
      ]
     },
     "execution_count": 1,
     "metadata": {},
     "output_type": "execute_result"
    }
   ],
   "source": [
    "import os\n",
    "os.getcwd()"
   ]
  },
  {
   "cell_type": "code",
   "execution_count": null,
   "id": "f23cd1eb-6d4a-41c1-b196-dc74ba8992e8",
   "metadata": {},
   "outputs": [],
   "source": []
  }
 ],
 "metadata": {
  "kernelspec": {
   "display_name": "tf_latest",
   "language": "python",
   "name": "tf_latest"
  },
  "language_info": {
   "codemirror_mode": {
    "name": "ipython",
    "version": 3
   },
   "file_extension": ".py",
   "mimetype": "text/x-python",
   "name": "python",
   "nbconvert_exporter": "python",
   "pygments_lexer": "ipython3",
   "version": "3.7.0"
  }
 },
 "nbformat": 4,
 "nbformat_minor": 5
}
